{
  "nbformat": 4,
  "nbformat_minor": 0,
  "metadata": {
    "accelerator": "GPU",
    "colab": {
      "gpuType": "T4",
      "provenance": []
    },
    "kernelspec": {
      "display_name": "Python 3",
      "name": "python3"
    },
    "language_info": {
      "codemirror_mode": {
        "name": "ipython",
        "version": 3
      },
      "file_extension": ".py",
      "mimetype": "text/x-python",
      "name": "python",
      "nbconvert_exporter": "python",
      "pygments_lexer": "ipython3",
      "version": "3.10.9"
    },
    "orig_nbformat": 4
  },
  "cells": [
    {
      "cell_type": "markdown",
      "metadata": {
        "id": "wj-R8aKRx5VR"
      },
      "source": [
        "## 自身で学習したモデルを保存する\n",
        "まずはmnistのデータを読み込み、正規化しておきます。"
      ]
    },
    {
      "cell_type": "code",
      "execution_count": null,
      "metadata": {
        "id": "BDRTqnZ0x5VT",
        "colab": {
          "base_uri": "https://localhost:8080/"
        },
        "outputId": "d98ad9fb-4c3c-496d-ad7e-603afe6674c9"
      },
      "outputs": [
        {
          "output_type": "stream",
          "name": "stdout",
          "text": [
            "Downloading data from https://storage.googleapis.com/tensorflow/tf-keras-datasets/train-labels-idx1-ubyte.gz\n",
            "29515/29515 [==============================] - 0s 0us/step\n",
            "Downloading data from https://storage.googleapis.com/tensorflow/tf-keras-datasets/train-images-idx3-ubyte.gz\n",
            "26421880/26421880 [==============================] - 1s 0us/step\n",
            "Downloading data from https://storage.googleapis.com/tensorflow/tf-keras-datasets/t10k-labels-idx1-ubyte.gz\n",
            "5148/5148 [==============================] - 0s 0us/step\n",
            "Downloading data from https://storage.googleapis.com/tensorflow/tf-keras-datasets/t10k-images-idx3-ubyte.gz\n",
            "4422102/4422102 [==============================] - 1s 0us/step\n"
          ]
        }
      ],
      "source": [
        "import tensorflow as tf\n",
        "f_mnist = tf.keras.datasets.fashion_mnist\n",
        "(training_images, training_labels), (test_images, test_labels) = f_mnist.load_data()\n",
        "training_images  = training_images / 255.0\n",
        "test_images = test_images / 255.0"
      ]
    },
    {
      "cell_type": "markdown",
      "metadata": {
        "id": "kkQW9UC8x5VU"
      },
      "source": [
        "CNNのモデルを作成します。"
      ]
    },
    {
      "cell_type": "code",
      "execution_count": null,
      "metadata": {
        "id": "KjEB__Fjx5VV"
      },
      "outputs": [],
      "source": [
        "model = tf.keras.models.Sequential()\n",
        "model.add(tf.keras.layers.Input(shape=(28, 28, 1)))\n",
        "model.add(tf.keras.layers.Conv2D(64, kernel_size=(3, 3), activation='relu'))\n",
        "model.add(tf.keras.layers.MaxPooling2D(pool_size=(2, 2)))\n",
        "model.add(tf.keras.layers.Conv2D(32, kernel_size=(3, 3), activation='relu'))\n",
        "model.add(tf.keras.layers.MaxPooling2D(pool_size=(2, 2)))\n",
        "model.add(tf.keras.layers.Flatten())\n",
        "model.add(tf.keras.layers.Dropout(rate=0.5))\n",
        "model.add(tf.keras.layers.Dense(units=10, activation='softmax'))"
      ]
    },
    {
      "cell_type": "markdown",
      "source": [],
      "metadata": {
        "id": "dw7BO0fsrAeC"
      }
    },
    {
      "cell_type": "markdown",
      "metadata": {
        "id": "ibKdkZCpx5VV"
      },
      "source": [
        "compile()によって訓練方法を設定します。"
      ]
    },
    {
      "cell_type": "code",
      "execution_count": null,
      "metadata": {
        "id": "BuX8urHvx5VV"
      },
      "outputs": [],
      "source": [
        "model.compile(optimizer = tf.optimizers.Adam(),\n",
        "              loss = 'sparse_categorical_crossentropy',\n",
        "              metrics=['accuracy'])"
      ]
    },
    {
      "cell_type": "markdown",
      "metadata": {
        "id": "gu7LPCHCx5VW"
      },
      "source": [
        "訓練します。"
      ]
    },
    {
      "cell_type": "code",
      "execution_count": null,
      "metadata": {
        "id": "y_9oZJxix5VW",
        "colab": {
          "base_uri": "https://localhost:8080/"
        },
        "outputId": "6d25b654-2ec1-49ae-f763-346016d124a9"
      },
      "outputs": [
        {
          "output_type": "stream",
          "name": "stdout",
          "text": [
            "Epoch 1/50\n",
            "469/469 [==============================] - 9s 8ms/step - loss: 0.7279 - accuracy: 0.7338 - val_loss: 0.4711 - val_accuracy: 0.8316\n",
            "Epoch 2/50\n",
            "469/469 [==============================] - 2s 5ms/step - loss: 0.4666 - accuracy: 0.8322 - val_loss: 0.4017 - val_accuracy: 0.8576\n",
            "Epoch 3/50\n",
            "469/469 [==============================] - 3s 5ms/step - loss: 0.4121 - accuracy: 0.8524 - val_loss: 0.3652 - val_accuracy: 0.8681\n",
            "Epoch 4/50\n",
            "469/469 [==============================] - 3s 5ms/step - loss: 0.3850 - accuracy: 0.8609 - val_loss: 0.3504 - val_accuracy: 0.8744\n",
            "Epoch 5/50\n",
            "469/469 [==============================] - 3s 6ms/step - loss: 0.3611 - accuracy: 0.8699 - val_loss: 0.3348 - val_accuracy: 0.8797\n",
            "Epoch 6/50\n",
            "469/469 [==============================] - 3s 6ms/step - loss: 0.3494 - accuracy: 0.8752 - val_loss: 0.3238 - val_accuracy: 0.8816\n",
            "Epoch 7/50\n",
            "469/469 [==============================] - 3s 5ms/step - loss: 0.3412 - accuracy: 0.8776 - val_loss: 0.3057 - val_accuracy: 0.8907\n",
            "Epoch 8/50\n",
            "469/469 [==============================] - 3s 6ms/step - loss: 0.3250 - accuracy: 0.8830 - val_loss: 0.3026 - val_accuracy: 0.8897\n",
            "Epoch 9/50\n",
            "469/469 [==============================] - 2s 5ms/step - loss: 0.3211 - accuracy: 0.8838 - val_loss: 0.2961 - val_accuracy: 0.8939\n",
            "Epoch 10/50\n",
            "469/469 [==============================] - 3s 6ms/step - loss: 0.3123 - accuracy: 0.8868 - val_loss: 0.3035 - val_accuracy: 0.8871\n",
            "Epoch 11/50\n",
            "469/469 [==============================] - 3s 6ms/step - loss: 0.3069 - accuracy: 0.8890 - val_loss: 0.2907 - val_accuracy: 0.8933\n",
            "Epoch 12/50\n",
            "469/469 [==============================] - 2s 5ms/step - loss: 0.3028 - accuracy: 0.8904 - val_loss: 0.2834 - val_accuracy: 0.8967\n",
            "Epoch 13/50\n",
            "469/469 [==============================] - 2s 5ms/step - loss: 0.3003 - accuracy: 0.8919 - val_loss: 0.2807 - val_accuracy: 0.8973\n",
            "Epoch 14/50\n",
            "469/469 [==============================] - 2s 5ms/step - loss: 0.2962 - accuracy: 0.8927 - val_loss: 0.2758 - val_accuracy: 0.9005\n",
            "Epoch 15/50\n",
            "469/469 [==============================] - 3s 6ms/step - loss: 0.2903 - accuracy: 0.8957 - val_loss: 0.2766 - val_accuracy: 0.8988\n",
            "Epoch 16/50\n",
            "469/469 [==============================] - 3s 5ms/step - loss: 0.2877 - accuracy: 0.8957 - val_loss: 0.2792 - val_accuracy: 0.8984\n",
            "Epoch 17/50\n",
            "469/469 [==============================] - 3s 6ms/step - loss: 0.2858 - accuracy: 0.8967 - val_loss: 0.2689 - val_accuracy: 0.9031\n",
            "Epoch 18/50\n",
            "469/469 [==============================] - 3s 6ms/step - loss: 0.2806 - accuracy: 0.8981 - val_loss: 0.2676 - val_accuracy: 0.9031\n",
            "Epoch 19/50\n",
            "469/469 [==============================] - 3s 5ms/step - loss: 0.2788 - accuracy: 0.8982 - val_loss: 0.2656 - val_accuracy: 0.9009\n",
            "Epoch 20/50\n",
            "469/469 [==============================] - 3s 6ms/step - loss: 0.2766 - accuracy: 0.8989 - val_loss: 0.2648 - val_accuracy: 0.9043\n",
            "Epoch 21/50\n",
            "469/469 [==============================] - 3s 5ms/step - loss: 0.2749 - accuracy: 0.8992 - val_loss: 0.2613 - val_accuracy: 0.9056\n",
            "Epoch 22/50\n",
            "469/469 [==============================] - 2s 5ms/step - loss: 0.2713 - accuracy: 0.9014 - val_loss: 0.2591 - val_accuracy: 0.9070\n",
            "Epoch 23/50\n",
            "469/469 [==============================] - 3s 5ms/step - loss: 0.2681 - accuracy: 0.9027 - val_loss: 0.2611 - val_accuracy: 0.9059\n",
            "Epoch 24/50\n",
            "469/469 [==============================] - 2s 5ms/step - loss: 0.2656 - accuracy: 0.9043 - val_loss: 0.2601 - val_accuracy: 0.9037\n",
            "Epoch 25/50\n",
            "469/469 [==============================] - 3s 7ms/step - loss: 0.2652 - accuracy: 0.9028 - val_loss: 0.2587 - val_accuracy: 0.9068\n",
            "Epoch 26/50\n",
            "469/469 [==============================] - 2s 5ms/step - loss: 0.2635 - accuracy: 0.9035 - val_loss: 0.2561 - val_accuracy: 0.9073\n",
            "Epoch 27/50\n",
            "469/469 [==============================] - 2s 5ms/step - loss: 0.2619 - accuracy: 0.9043 - val_loss: 0.2605 - val_accuracy: 0.9054\n",
            "Epoch 28/50\n",
            "469/469 [==============================] - 2s 5ms/step - loss: 0.2562 - accuracy: 0.9081 - val_loss: 0.2547 - val_accuracy: 0.9071\n",
            "Epoch 29/50\n",
            "469/469 [==============================] - 3s 5ms/step - loss: 0.2601 - accuracy: 0.9043 - val_loss: 0.2551 - val_accuracy: 0.9075\n",
            "Epoch 30/50\n",
            "469/469 [==============================] - 3s 6ms/step - loss: 0.2544 - accuracy: 0.9074 - val_loss: 0.2506 - val_accuracy: 0.9059\n",
            "Epoch 31/50\n",
            "469/469 [==============================] - 2s 5ms/step - loss: 0.2508 - accuracy: 0.9083 - val_loss: 0.2487 - val_accuracy: 0.9095\n",
            "Epoch 32/50\n",
            "469/469 [==============================] - 3s 6ms/step - loss: 0.2537 - accuracy: 0.9071 - val_loss: 0.2519 - val_accuracy: 0.9072\n",
            "Epoch 33/50\n",
            "469/469 [==============================] - 2s 5ms/step - loss: 0.2477 - accuracy: 0.9095 - val_loss: 0.2479 - val_accuracy: 0.9089\n",
            "Epoch 34/50\n",
            "469/469 [==============================] - 2s 5ms/step - loss: 0.2489 - accuracy: 0.9090 - val_loss: 0.2528 - val_accuracy: 0.9096\n",
            "Epoch 35/50\n",
            "469/469 [==============================] - 3s 6ms/step - loss: 0.2453 - accuracy: 0.9103 - val_loss: 0.2481 - val_accuracy: 0.9110\n",
            "Epoch 36/50\n",
            "469/469 [==============================] - 3s 5ms/step - loss: 0.2485 - accuracy: 0.9096 - val_loss: 0.2504 - val_accuracy: 0.9076\n",
            "Epoch 37/50\n",
            "469/469 [==============================] - 2s 5ms/step - loss: 0.2452 - accuracy: 0.9109 - val_loss: 0.2494 - val_accuracy: 0.9099\n",
            "Epoch 38/50\n",
            "469/469 [==============================] - 2s 5ms/step - loss: 0.2438 - accuracy: 0.9104 - val_loss: 0.2469 - val_accuracy: 0.9104\n",
            "Epoch 39/50\n",
            "469/469 [==============================] - 2s 5ms/step - loss: 0.2428 - accuracy: 0.9115 - val_loss: 0.2447 - val_accuracy: 0.9123\n",
            "Epoch 40/50\n",
            "469/469 [==============================] - 3s 6ms/step - loss: 0.2394 - accuracy: 0.9122 - val_loss: 0.2511 - val_accuracy: 0.9094\n",
            "Epoch 41/50\n",
            "469/469 [==============================] - 2s 5ms/step - loss: 0.2405 - accuracy: 0.9131 - val_loss: 0.2471 - val_accuracy: 0.9107\n",
            "Epoch 42/50\n",
            "469/469 [==============================] - 2s 5ms/step - loss: 0.2373 - accuracy: 0.9128 - val_loss: 0.2502 - val_accuracy: 0.9122\n",
            "Epoch 43/50\n",
            "469/469 [==============================] - 2s 5ms/step - loss: 0.2398 - accuracy: 0.9125 - val_loss: 0.2503 - val_accuracy: 0.9116\n",
            "Epoch 44/50\n",
            "469/469 [==============================] - 2s 5ms/step - loss: 0.2379 - accuracy: 0.9120 - val_loss: 0.2537 - val_accuracy: 0.9071\n",
            "Epoch 45/50\n",
            "469/469 [==============================] - 3s 6ms/step - loss: 0.2318 - accuracy: 0.9155 - val_loss: 0.2455 - val_accuracy: 0.9131\n",
            "Epoch 46/50\n",
            "469/469 [==============================] - 2s 5ms/step - loss: 0.2306 - accuracy: 0.9155 - val_loss: 0.2445 - val_accuracy: 0.9125\n",
            "Epoch 47/50\n",
            "469/469 [==============================] - 3s 5ms/step - loss: 0.2303 - accuracy: 0.9153 - val_loss: 0.2462 - val_accuracy: 0.9125\n",
            "Epoch 48/50\n",
            "469/469 [==============================] - 2s 5ms/step - loss: 0.2320 - accuracy: 0.9156 - val_loss: 0.2456 - val_accuracy: 0.9124\n",
            "Epoch 49/50\n",
            "469/469 [==============================] - 2s 5ms/step - loss: 0.2317 - accuracy: 0.9144 - val_loss: 0.2468 - val_accuracy: 0.9115\n",
            "Epoch 50/50\n",
            "469/469 [==============================] - 3s 6ms/step - loss: 0.2301 - accuracy: 0.9148 - val_loss: 0.2426 - val_accuracy: 0.9137\n",
            "143.37828493118286\n"
          ]
        }
      ],
      "source": [
        "import time\n",
        "\n",
        "start = time.time()\n",
        "\n",
        "train_hist=model.fit(training_images, training_labels, epochs=50, verbose=1,\n",
        "                     validation_data=(test_images, test_labels), batch_size=128)\n",
        "\n",
        "print(time.time() - start)"
      ]
    },
    {
      "cell_type": "markdown",
      "metadata": {
        "id": "dTHP-4H3x5VW"
      },
      "source": [
        "学習曲線をプロットします。"
      ]
    },
    {
      "cell_type": "code",
      "execution_count": null,
      "metadata": {
        "id": "WCyquohzx5VW",
        "colab": {
          "base_uri": "https://localhost:8080/",
          "height": 388
        },
        "outputId": "bb7d4d68-7782-48f5-98b2-fb27957a6590"
      },
      "outputs": [
        {
          "output_type": "display_data",
          "data": {
            "text/plain": [
              "<Figure size 1200x400 with 2 Axes>"
            ],
            "image/png": "[encoded data removed]"
          },
          "metadata": {}
        }
      ],
      "source": [
        "import matplotlib.pyplot as plt\n",
        "import numpy as np\n",
        "figs, axs=plt.subplots(1, 2, figsize=(12, 4))\n",
        "axs[0].plot(train_hist.history['loss'], label='training')\n",
        "axs[0].plot(train_hist.history['val_loss'], label='validation')\n",
        "axs[0].legend()\n",
        "axs[0].set_xlabel('Epoch')\n",
        "axs[0].set_ylabel('Loss')\n",
        "axs[1].plot(train_hist.history['accuracy'], label='training')\n",
        "axs[1].plot(train_hist.history['val_accuracy'], label='validation')\n",
        "axs[1].legend()\n",
        "axs[1].set_xlabel('Epoch')\n",
        "axs[1].set_ylabel('Accuracy')\n",
        "plt.show()"
      ]
    },
    {
      "cell_type": "markdown",
      "metadata": {
        "id": "NKiCi9eex5VX"
      },
      "source": [
        "最終的な検証用の損失と精度を数値で確認しておきます。"
      ]
    },
    {
      "cell_type": "code",
      "execution_count": null,
      "metadata": {
        "id": "Fhnbcg0Wx5VX",
        "colab": {
          "base_uri": "https://localhost:8080/"
        },
        "outputId": "6d0b9d75-40ee-4c82-ca2f-4289b9c17134"
      },
      "outputs": [
        {
          "output_type": "stream",
          "name": "stdout",
          "text": [
            "313/313 [==============================] - 1s 2ms/step - loss: 0.2505 - accuracy: 0.9108\n"
          ]
        },
        {
          "output_type": "execute_result",
          "data": {
            "text/plain": [
              "[0.25046977400779724, 0.9107999801635742]"
            ]
          },
          "metadata": {},
          "execution_count": 6
        }
      ],
      "source": [
        "model.evaluate(test_images, test_labels)"
      ]
    },
    {
      "cell_type": "markdown",
      "metadata": {
        "id": "9GDsWyoOQqxO"
      },
      "source": [
        "## モデルの保存\n",
        "学習済みモデルをファイルに保存します。"
      ]
    },
    {
      "cell_type": "code",
      "source": [
        "from google.colab import drive\n",
        "drive.mount('/content/drive')"
      ],
      "metadata": {
        "id": "eHoHumxTXljx",
        "colab": {
          "base_uri": "https://localhost:8080/"
        },
        "outputId": "39ad4069-25f6-4178-895c-f8e7a4962cc3"
      },
      "execution_count": null,
      "outputs": [
        {
          "output_type": "stream",
          "name": "stdout",
          "text": [
            "Mounted at /content/drive\n"
          ]
        }
      ]
    },
    {
      "cell_type": "code",
      "execution_count": null,
      "metadata": {
        "id": "EfY_LP_4QqxO"
      },
      "outputs": [],
      "source": [
        "model.save('/content/drive/MyDrive/my_fashion_mnist_model')"
      ]
    },
    {
      "cell_type": "markdown",
      "metadata": {
        "id": "VtkpfYLqQqxO"
      },
      "source": [
        "H5形式でも保存してみます。"
      ]
    },
    {
      "cell_type": "code",
      "execution_count": null,
      "metadata": {
        "id": "AO_lMQctQqxP",
        "colab": {
          "base_uri": "https://localhost:8080/"
        },
        "outputId": "f95170d6-0a2b-4eee-b48f-4d6e49849ab1"
      },
      "outputs": [
        {
          "output_type": "stream",
          "name": "stderr",
          "text": [
            "/usr/local/lib/python3.10/dist-packages/keras/src/engine/training.py:3103: UserWarning: You are saving your model as an HDF5 file via `model.save()`. This file format is considered legacy. We recommend using instead the native Keras format, e.g. `model.save('my_model.keras')`.\n",
            "  saving_api.save_model(\n"
          ]
        }
      ],
      "source": [
        "model.save('/content/drive/MyDrive/my_fashion_mnist_model.h5')"
      ]
    },
    {
      "cell_type": "markdown",
      "metadata": {
        "id": "e41WDoTgQqxP"
      },
      "source": [
        "Google Driveを開き、モデルが保存されていることを確認しておきましょう。"
      ]
    }
  ]
}